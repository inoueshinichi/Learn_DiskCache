{
 "cells": [
  {
   "attachments": {},
   "cell_type": "markdown",
   "metadata": {},
   "source": [
    "## DiskCacheライブラリの使い方\n",
    "+ インメモリではなく, SSDやHDDにキャッシュを作成する\n",
    "+ key-valueデータ構造\n",
    "+ Cacheオブジェクトはスレッドセーフ(プロセスセーフ)\n",
    "+ Cache操作はすべてアトミック\n",
    "+ プロセスフォークに対応(Python Pickle Serializerを利用)\n",
    "+ 読み込み, 書き込み関数はすべてNon-blocking\n",
    "+ 各関数の引数で`read=True`を指定すると, key-valueをファイルとして読み込めることを示す"
   ]
  },
  {
   "attachments": {},
   "cell_type": "markdown",
   "metadata": {},
   "source": [
    "### Cache\n",
    "+ キャッシュディレクトリを指定しない場合, `一時ディレクトリ`が自動作成される"
   ]
  },
  {
   "cell_type": "code",
   "execution_count": 21,
   "metadata": {},
   "outputs": [],
   "source": [
    "from diskcache import Cache\n",
    "\n",
    "cachedir = \"F:/DiskCacheTest/Cache\"\n",
    "cache = Cache(cachedir) # ディレクトリ指定がない場合, 一時ディレクトリが自動的に作成される.\n",
    "cache.close()\n"
   ]
  },
  {
   "attachments": {},
   "cell_type": "markdown",
   "metadata": {},
   "source": [
    "withステートメントに対応"
   ]
  },
  {
   "cell_type": "code",
   "execution_count": 22,
   "metadata": {},
   "outputs": [],
   "source": [
    "with Cache(cache.directory) as reference:\n",
    "    reference.set('key', 'value')"
   ]
  },
  {
   "cell_type": "code",
   "execution_count": 23,
   "metadata": {},
   "outputs": [
    {
     "name": "stdout",
     "output_type": "stream",
     "text": [
      "cache.get('key') value\n"
     ]
    }
   ],
   "source": [
    "print(\"cache.get('key')\", cache.get('key')) # Automatically opens, but slower."
   ]
  },
  {
   "attachments": {},
   "cell_type": "markdown",
   "metadata": {},
   "source": [
    "PythonのDictionary型と同じ操作ができる"
   ]
  },
  {
   "cell_type": "code",
   "execution_count": 24,
   "metadata": {},
   "outputs": [
    {
     "name": "stdout",
     "output_type": "stream",
     "text": [
      "my-value\n"
     ]
    },
    {
     "ename": "KeyError",
     "evalue": "'my-key'",
     "output_type": "error",
     "traceback": [
      "\u001b[1;31m---------------------------------------------------------------------------\u001b[0m",
      "\u001b[1;31mKeyError\u001b[0m                                  Traceback (most recent call last)",
      "Cell \u001b[1;32mIn[24], line 4\u001b[0m\n\u001b[0;32m      2\u001b[0m \u001b[39mprint\u001b[39m(cache[\u001b[39m'\u001b[39m\u001b[39mmy-key\u001b[39m\u001b[39m'\u001b[39m])\n\u001b[0;32m      3\u001b[0m \u001b[39mdel\u001b[39;00m cache[\u001b[39m'\u001b[39m\u001b[39mmy-key\u001b[39m\u001b[39m'\u001b[39m]\n\u001b[1;32m----> 4\u001b[0m \u001b[39mprint\u001b[39m(cache[\u001b[39m'\u001b[39;49m\u001b[39mmy-key\u001b[39;49m\u001b[39m'\u001b[39;49m])\n",
      "File \u001b[1;32mc:\\Users\\InoueShinichi\\anaconda3\\envs\\Py39WorkingEnv\\lib\\site-packages\\diskcache\\core.py:1234\u001b[0m, in \u001b[0;36mCache.__getitem__\u001b[1;34m(self, key)\u001b[0m\n\u001b[0;32m   1232\u001b[0m value \u001b[39m=\u001b[39m \u001b[39mself\u001b[39m\u001b[39m.\u001b[39mget(key, default\u001b[39m=\u001b[39mENOVAL, retry\u001b[39m=\u001b[39m\u001b[39mTrue\u001b[39;00m)\n\u001b[0;32m   1233\u001b[0m \u001b[39mif\u001b[39;00m value \u001b[39mis\u001b[39;00m ENOVAL:\n\u001b[1;32m-> 1234\u001b[0m     \u001b[39mraise\u001b[39;00m \u001b[39mKeyError\u001b[39;00m(key)\n\u001b[0;32m   1235\u001b[0m \u001b[39mreturn\u001b[39;00m value\n",
      "\u001b[1;31mKeyError\u001b[0m: 'my-key'"
     ]
    }
   ],
   "source": [
    "cache['my-key'] = 'my-value'\n",
    "print(cache['my-key'])\n",
    "del cache['my-key']\n",
    "print(cache['my-key'])\n"
   ]
  },
  {
   "attachments": {},
   "cell_type": "markdown",
   "metadata": {},
   "source": [
    "時間制限付きキャッシュ"
   ]
  },
  {
   "cell_type": "code",
   "execution_count": 25,
   "metadata": {},
   "outputs": [
    {
     "name": "stdout",
     "output_type": "stream",
     "text": [
      "my-value\n",
      "float\n",
      "data\n"
     ]
    }
   ],
   "source": [
    "from io import BytesIO\n",
    "cache.set('my-key', BytesIO(b'my-value'), expire=5, read=True, tag='data') # expire_time : 5sec\n",
    "\n",
    "result = cache.get('my-key', read=True, expire_time=True, tag=True)\n",
    "reader, timestamp, tag = result\n",
    "print(reader.read().decode())\n",
    "print(type(timestamp).__name__)\n",
    "print(tag)"
   ]
  },
  {
   "attachments": {},
   "cell_type": "markdown",
   "metadata": {},
   "source": [
    "時間制限を超過した場合"
   ]
  },
  {
   "cell_type": "code",
   "execution_count": 26,
   "metadata": {},
   "outputs": [
    {
     "ename": "AttributeError",
     "evalue": "'NoneType' object has no attribute 'read'",
     "output_type": "error",
     "traceback": [
      "\u001b[1;31m---------------------------------------------------------------------------\u001b[0m",
      "\u001b[1;31mAttributeError\u001b[0m                            Traceback (most recent call last)",
      "Cell \u001b[1;32mIn[26], line 10\u001b[0m\n\u001b[0;32m      8\u001b[0m result \u001b[39m=\u001b[39m cache\u001b[39m.\u001b[39mget(\u001b[39m'\u001b[39m\u001b[39mmy-key\u001b[39m\u001b[39m'\u001b[39m, read\u001b[39m=\u001b[39m\u001b[39mTrue\u001b[39;00m, expire_time\u001b[39m=\u001b[39m\u001b[39mTrue\u001b[39;00m, tag\u001b[39m=\u001b[39m\u001b[39mTrue\u001b[39;00m) \u001b[39m# read=Trueでファイルオブジェクトとして認識する\u001b[39;00m\n\u001b[0;32m      9\u001b[0m reader, timestamp, tag \u001b[39m=\u001b[39m result \u001b[39m# タプル\u001b[39;00m\n\u001b[1;32m---> 10\u001b[0m \u001b[39mprint\u001b[39m(reader\u001b[39m.\u001b[39;49mread()\u001b[39m.\u001b[39mdecode())\n\u001b[0;32m     11\u001b[0m \u001b[39mprint\u001b[39m(\u001b[39mtype\u001b[39m(timestamp)\u001b[39m.\u001b[39m\u001b[39m__name__\u001b[39m)\n\u001b[0;32m     12\u001b[0m \u001b[39mprint\u001b[39m(tag)\n",
      "\u001b[1;31mAttributeError\u001b[0m: 'NoneType' object has no attribute 'read'"
     ]
    }
   ],
   "source": [
    "from io import BytesIO\n",
    "cache.set('my-key', BytesIO(b'my-value'), expire=5, read=True, tag='data') # expire_time : 5sec\n",
    "\n",
    "from time import sleep\n",
    "\n",
    "sleep(6) # 6sec\n",
    "\n",
    "result = cache.get('my-key', read=True, expire_time=True, tag=True) # read=Trueでファイルオブジェクトとして認識する\n",
    "reader, timestamp, tag = result # タプル\n",
    "print(reader.read().decode())\n",
    "print(type(timestamp).__name__)\n",
    "print(tag)"
   ]
  },
  {
   "attachments": {},
   "cell_type": "markdown",
   "metadata": {},
   "source": [
    "キャッシュオブジェクトの生存時間を更新するには`touch()`メソッドを使用する"
   ]
  },
  {
   "cell_type": "code",
   "execution_count": 27,
   "metadata": {},
   "outputs": [
    {
     "data": {
      "text/plain": [
       "False"
      ]
     },
     "execution_count": 27,
     "metadata": {},
     "output_type": "execute_result"
    }
   ],
   "source": [
    "cache.touch('my-key', expire=None)"
   ]
  },
  {
   "cell_type": "code",
   "execution_count": 28,
   "metadata": {},
   "outputs": [
    {
     "data": {
      "text/plain": [
       "False"
      ]
     },
     "execution_count": 28,
     "metadata": {},
     "output_type": "execute_result"
    }
   ],
   "source": [
    "cache.touch('dose-not-exist', expire=1) # 1sec"
   ]
  },
  {
   "attachments": {},
   "cell_type": "markdown",
   "metadata": {},
   "source": [
    "+ PythonのSet型と同じ操作ができる\n",
    "+ valueの数値は, `SQLite interger column (64bit-singed integers)`"
   ]
  },
  {
   "cell_type": "code",
   "execution_count": 29,
   "metadata": {},
   "outputs": [
    {
     "data": {
      "text/plain": [
       "True"
      ]
     },
     "execution_count": 29,
     "metadata": {},
     "output_type": "execute_result"
    }
   ],
   "source": [
    "cache.add(b'test', 123)"
   ]
  },
  {
   "cell_type": "code",
   "execution_count": 30,
   "metadata": {},
   "outputs": [
    {
     "data": {
      "text/plain": [
       "123"
      ]
     },
     "execution_count": 30,
     "metadata": {},
     "output_type": "execute_result"
    }
   ],
   "source": [
    "cache[b'test']"
   ]
  },
  {
   "cell_type": "code",
   "execution_count": 33,
   "metadata": {},
   "outputs": [
    {
     "data": {
      "text/plain": [
       "False"
      ]
     },
     "execution_count": 33,
     "metadata": {},
     "output_type": "execute_result"
    }
   ],
   "source": [
    "cache.add(b'test', 456)"
   ]
  },
  {
   "cell_type": "code",
   "execution_count": 36,
   "metadata": {},
   "outputs": [
    {
     "data": {
      "text/plain": [
       "123"
      ]
     },
     "execution_count": 36,
     "metadata": {},
     "output_type": "execute_result"
    }
   ],
   "source": [
    "cache[b'test'] # 123 not 456"
   ]
  },
  {
   "attachments": {},
   "cell_type": "markdown",
   "metadata": {},
   "source": [
    "値の加算increment:`incr()`メソッドと減算decriment:`decr()`メソッド "
   ]
  },
  {
   "cell_type": "code",
   "execution_count": 37,
   "metadata": {},
   "outputs": [
    {
     "data": {
      "text/plain": [
       "124"
      ]
     },
     "execution_count": 37,
     "metadata": {},
     "output_type": "execute_result"
    }
   ],
   "source": [
    "cache.incr(b'test') # 123 -> 124"
   ]
  },
  {
   "cell_type": "code",
   "execution_count": 38,
   "metadata": {},
   "outputs": [
    {
     "data": {
      "text/plain": [
       "100"
      ]
     },
     "execution_count": 38,
     "metadata": {},
     "output_type": "execute_result"
    }
   ],
   "source": [
    "cache.decr(b'test', 24) # 124 -> 100"
   ]
  },
  {
   "attachments": {},
   "cell_type": "markdown",
   "metadata": {},
   "source": [
    "`default=None`を指定することで, 存在しないkeyに対して`incr()`と`decr()`でKeyErrorを投げることができる"
   ]
  },
  {
   "cell_type": "code",
   "execution_count": 39,
   "metadata": {},
   "outputs": [
    {
     "data": {
      "text/plain": [
       "1"
      ]
     },
     "execution_count": 39,
     "metadata": {},
     "output_type": "execute_result"
    }
   ],
   "source": [
    "cache.incr('alice')"
   ]
  },
  {
   "cell_type": "code",
   "execution_count": 40,
   "metadata": {},
   "outputs": [
    {
     "data": {
      "text/plain": [
       "-10"
      ]
     },
     "execution_count": 40,
     "metadata": {},
     "output_type": "execute_result"
    }
   ],
   "source": [
    "cache.decr('bob', default=-9) # 下駄=-9"
   ]
  },
  {
   "cell_type": "code",
   "execution_count": 41,
   "metadata": {},
   "outputs": [
    {
     "ename": "KeyError",
     "evalue": "'carol'",
     "output_type": "error",
     "traceback": [
      "\u001b[1;31m---------------------------------------------------------------------------\u001b[0m",
      "\u001b[1;31mKeyError\u001b[0m                                  Traceback (most recent call last)",
      "Cell \u001b[1;32mIn[41], line 1\u001b[0m\n\u001b[1;32m----> 1\u001b[0m cache\u001b[39m.\u001b[39;49mincr(\u001b[39m'\u001b[39;49m\u001b[39mcarol\u001b[39;49m\u001b[39m'\u001b[39;49m, default\u001b[39m=\u001b[39;49m\u001b[39mNone\u001b[39;49;00m)\n",
      "File \u001b[1;32mc:\\Users\\InoueShinichi\\anaconda3\\envs\\Py39WorkingEnv\\lib\\site-packages\\diskcache\\core.py:1055\u001b[0m, in \u001b[0;36mCache.incr\u001b[1;34m(self, key, delta, default, retry)\u001b[0m\n\u001b[0;32m   1053\u001b[0m \u001b[39mif\u001b[39;00m \u001b[39mnot\u001b[39;00m rows:\n\u001b[0;32m   1054\u001b[0m     \u001b[39mif\u001b[39;00m default \u001b[39mis\u001b[39;00m \u001b[39mNone\u001b[39;00m:\n\u001b[1;32m-> 1055\u001b[0m         \u001b[39mraise\u001b[39;00m \u001b[39mKeyError\u001b[39;00m(key)\n\u001b[0;32m   1057\u001b[0m     value \u001b[39m=\u001b[39m default \u001b[39m+\u001b[39m delta\n\u001b[0;32m   1058\u001b[0m     columns \u001b[39m=\u001b[39m (\u001b[39mNone\u001b[39;00m, \u001b[39mNone\u001b[39;00m) \u001b[39m+\u001b[39m \u001b[39mself\u001b[39m\u001b[39m.\u001b[39m_disk\u001b[39m.\u001b[39mstore(\n\u001b[0;32m   1059\u001b[0m         value, \u001b[39mFalse\u001b[39;00m, key\u001b[39m=\u001b[39mkey\n\u001b[0;32m   1060\u001b[0m     )\n",
      "\u001b[1;31mKeyError\u001b[0m: 'carol'"
     ]
    }
   ],
   "source": [
    "cache.incr('carol', default=None)"
   ]
  },
  {
   "attachments": {},
   "cell_type": "markdown",
   "metadata": {},
   "source": [
    "`delete()`, `get()`, `pop()`操作"
   ]
  },
  {
   "cell_type": "code",
   "execution_count": 42,
   "metadata": {},
   "outputs": [
    {
     "data": {
      "text/plain": [
       "1"
      ]
     },
     "execution_count": 42,
     "metadata": {},
     "output_type": "execute_result"
    }
   ],
   "source": [
    "cache.pop('alice')"
   ]
  },
  {
   "cell_type": "code",
   "execution_count": 43,
   "metadata": {},
   "outputs": [
    {
     "data": {
      "text/plain": [
       "'does not exist'"
      ]
     },
     "execution_count": 43,
     "metadata": {},
     "output_type": "execute_result"
    }
   ],
   "source": [
    "cache.pop('dave', default='does not exist')"
   ]
  },
  {
   "cell_type": "code",
   "execution_count": 44,
   "metadata": {},
   "outputs": [
    {
     "data": {
      "text/plain": [
       "True"
      ]
     },
     "execution_count": 44,
     "metadata": {},
     "output_type": "execute_result"
    }
   ],
   "source": [
    "cache.set('dave', 0, expire=None, tag='admin')"
   ]
  },
  {
   "cell_type": "code",
   "execution_count": 45,
   "metadata": {},
   "outputs": [
    {
     "data": {
      "text/plain": [
       "0"
      ]
     },
     "execution_count": 45,
     "metadata": {},
     "output_type": "execute_result"
    }
   ],
   "source": [
    "cache.get('dave')"
   ]
  },
  {
   "cell_type": "code",
   "execution_count": 46,
   "metadata": {},
   "outputs": [
    {
     "data": {
      "text/plain": [
       "True"
      ]
     },
     "execution_count": 46,
     "metadata": {},
     "output_type": "execute_result"
    }
   ],
   "source": [
    "cache.set('dave', 0, expire=None, tag='admin')"
   ]
  },
  {
   "cell_type": "code",
   "execution_count": 47,
   "metadata": {},
   "outputs": [
    {
     "name": "stdout",
     "output_type": "stream",
     "text": [
      "0\n",
      "None\n",
      "admin\n"
     ]
    }
   ],
   "source": [
    "result = cache.pop('dave', expire_time=True, tag=True) # key`dave`のvalueを取得&削除\n",
    "value, timestampe, tag = result\n",
    "print(value)\n",
    "print(timestamp)\n",
    "print(tag)"
   ]
  },
  {
   "cell_type": "code",
   "execution_count": 48,
   "metadata": {},
   "outputs": [],
   "source": [
    "cache.get('dave') # valueがない"
   ]
  },
  {
   "attachments": {},
   "cell_type": "markdown",
   "metadata": {},
   "source": [
    "削除系 `clear()`, `reset()`, `expire()`, `evict()`"
   ]
  },
  {
   "cell_type": "code",
   "execution_count": 49,
   "metadata": {},
   "outputs": [
    {
     "data": {
      "text/plain": [
       "109"
      ]
     },
     "execution_count": 49,
     "metadata": {},
     "output_type": "execute_result"
    }
   ],
   "source": [
    "cache.clear()"
   ]
  },
  {
   "cell_type": "code",
   "execution_count": 50,
   "metadata": {},
   "outputs": [
    {
     "data": {
      "text/plain": [
       "0"
      ]
     },
     "execution_count": 50,
     "metadata": {},
     "output_type": "execute_result"
    }
   ],
   "source": [
    "cache.reset('cull_limit', 0) # Disable automatic evictions(立ち退き)"
   ]
  },
  {
   "cell_type": "code",
   "execution_count": 51,
   "metadata": {},
   "outputs": [],
   "source": [
    "cache.get('cull_limit') # まだkey-valueは存在している"
   ]
  },
  {
   "cell_type": "code",
   "execution_count": 52,
   "metadata": {},
   "outputs": [
    {
     "data": {
      "text/plain": [
       "10"
      ]
     },
     "execution_count": 52,
     "metadata": {},
     "output_type": "execute_result"
    }
   ],
   "source": [
    "for num in range(10):\n",
    "    _ = cache.set(num, num, expire=1e-9) # Expire immediately\n",
    "len(cache)"
   ]
  },
  {
   "cell_type": "code",
   "execution_count": 53,
   "metadata": {},
   "outputs": [
    {
     "data": {
      "text/plain": [
       "[0, 1, 2, 3, 4, 5, 6, 7, 8, 9]"
      ]
     },
     "execution_count": 53,
     "metadata": {},
     "output_type": "execute_result"
    }
   ],
   "source": [
    "list(cache)"
   ]
  },
  {
   "attachments": {},
   "cell_type": "markdown",
   "metadata": {},
   "source": [
    "`expire()`関数でexpiredされたkeyをすべて削除する"
   ]
  },
  {
   "cell_type": "code",
   "execution_count": 54,
   "metadata": {},
   "outputs": [
    {
     "data": {
      "text/plain": [
       "10"
      ]
     },
     "execution_count": 54,
     "metadata": {},
     "output_type": "execute_result"
    }
   ],
   "source": [
    "import time\n",
    "time.sleep(1) # 1sec\n",
    "cache.expire()"
   ]
  },
  {
   "attachments": {},
   "cell_type": "markdown",
   "metadata": {},
   "source": [
    "+ `evict()`関数は, タグにマッチしたkey-valueをすべて削除する. defaultタグは`None`\n",
    "+ タグは, interger, float, string, bytes, Noneがあり得る\n",
    "+ envict()関数を高速化するために, `tag_index=True`でインデックスを作成できる."
   ]
  },
  {
   "cell_type": "code",
   "execution_count": 55,
   "metadata": {},
   "outputs": [
    {
     "name": "stdout",
     "output_type": "stream",
     "text": [
      "duration[ms] 10596.3\n"
     ]
    }
   ],
   "source": [
    "from time import perf_counter_ns\n",
    "\n",
    "cache.clear()\n",
    "\n",
    "tp_start = perf_counter_ns()\n",
    "\n",
    "for num in range(100):\n",
    "    _ = cache.set(num, num, tag='odd' if num % 2 else 'even')\n",
    "cache.evict('even')\n",
    "\n",
    "tp_end = perf_counter_ns()\n",
    "\n",
    "duration = (tp_end - tp_start) / 1000.0\n",
    "print(\"duration[ms]\", duration)"
   ]
  },
  {
   "cell_type": "code",
   "execution_count": 56,
   "metadata": {},
   "outputs": [
    {
     "name": "stdout",
     "output_type": "stream",
     "text": [
      "duration[ms] 12111.2\n"
     ]
    }
   ],
   "source": [
    "cachedir2 = \"F:/DiskCacheTest/TagIndexCache\"\n",
    "cache_with_tag_index = Cache(cachedir2, tag_index=True)\n",
    "\n",
    "cache_with_tag_index.clear()\n",
    "\n",
    "tp_start = perf_counter_ns()\n",
    "\n",
    "for num in range(100):\n",
    "    _ = cache_with_tag_index.set(num, num, tag='odd' if num % 2 else 'even')\n",
    "cache.evict('even') # 処理速度が上昇する?\n",
    "\n",
    "tp_end = perf_counter_ns()\n",
    "\n",
    "duration = (tp_end - tp_start) / 1000.0\n",
    "print(\"duration[ms]\", duration)"
   ]
  },
  {
   "attachments": {},
   "cell_type": "markdown",
   "metadata": {},
   "source": [
    "`tag_index`の作成と削除. よくわからない"
   ]
  },
  {
   "cell_type": "code",
   "execution_count": 57,
   "metadata": {},
   "outputs": [],
   "source": [
    "cache_with_tag_index.drop_tag_index()"
   ]
  },
  {
   "cell_type": "code",
   "execution_count": 58,
   "metadata": {},
   "outputs": [],
   "source": [
    "cache_with_tag_index.create_tag_index()"
   ]
  },
  {
   "attachments": {},
   "cell_type": "markdown",
   "metadata": {},
   "source": [
    "`cull()`関数で強制的にキャッシュサイズの上限を決める"
   ]
  },
  {
   "cell_type": "code",
   "execution_count": 59,
   "metadata": {},
   "outputs": [
    {
     "data": {
      "text/plain": [
       "50"
      ]
     },
     "execution_count": 59,
     "metadata": {},
     "output_type": "execute_result"
    }
   ],
   "source": [
    "cache.clear()"
   ]
  },
  {
   "cell_type": "code",
   "execution_count": 60,
   "metadata": {},
   "outputs": [
    {
     "data": {
      "text/plain": [
       "1000000"
      ]
     },
     "execution_count": 60,
     "metadata": {},
     "output_type": "execute_result"
    }
   ],
   "source": [
    "cache.reset('size_limit', int(1e6))"
   ]
  },
  {
   "cell_type": "code",
   "execution_count": 61,
   "metadata": {},
   "outputs": [
    {
     "data": {
      "text/plain": [
       "0"
      ]
     },
     "execution_count": 61,
     "metadata": {},
     "output_type": "execute_result"
    }
   ],
   "source": [
    "cache.reset('culll_limit', 0)"
   ]
  },
  {
   "cell_type": "code",
   "execution_count": 62,
   "metadata": {},
   "outputs": [],
   "source": [
    "for count in range(1000):\n",
    "    cache[count] = b'A' * 1000"
   ]
  },
  {
   "cell_type": "code",
   "execution_count": 63,
   "metadata": {},
   "outputs": [
    {
     "data": {
      "text/plain": [
       "True"
      ]
     },
     "execution_count": 63,
     "metadata": {},
     "output_type": "execute_result"
    }
   ],
   "source": [
    "cache.volume() > int(1e6)"
   ]
  },
  {
   "cell_type": "code",
   "execution_count": 64,
   "metadata": {},
   "outputs": [
    {
     "data": {
      "text/plain": [
       "1454080"
      ]
     },
     "execution_count": 64,
     "metadata": {},
     "output_type": "execute_result"
    }
   ],
   "source": [
    "cache.volume()"
   ]
  },
  {
   "cell_type": "code",
   "execution_count": 65,
   "metadata": {},
   "outputs": [
    {
     "data": {
      "text/plain": [
       "True"
      ]
     },
     "execution_count": 65,
     "metadata": {},
     "output_type": "execute_result"
    }
   ],
   "source": [
    "cache.cull() > 0 # キャシュサイズの上限を決める"
   ]
  },
  {
   "cell_type": "code",
   "execution_count": 66,
   "metadata": {},
   "outputs": [
    {
     "data": {
      "text/plain": [
       "False"
      ]
     },
     "execution_count": 66,
     "metadata": {},
     "output_type": "execute_result"
    }
   ],
   "source": [
    "cache.volume() > int(1e6)"
   ]
  },
  {
   "cell_type": "code",
   "execution_count": 67,
   "metadata": {},
   "outputs": [
    {
     "data": {
      "text/plain": [
       "999424"
      ]
     },
     "execution_count": 67,
     "metadata": {},
     "output_type": "execute_result"
    }
   ],
   "source": [
    "cache.volume()"
   ]
  },
  {
   "attachments": {},
   "cell_type": "markdown",
   "metadata": {},
   "source": [
    "ome users may defer all culling to a cron-like process by setting the cull_limit to zero and manually calling cull to remove items. Like evict and expire, calls to cull will work regardless of the cull_limit."
   ]
  },
  {
   "cell_type": "code",
   "execution_count": 68,
   "metadata": {},
   "outputs": [
    {
     "data": {
      "text/plain": [
       "True"
      ]
     },
     "execution_count": 68,
     "metadata": {},
     "output_type": "execute_result"
    }
   ],
   "source": [
    "cache.clear() > 0 # simple remove all items from the cache"
   ]
  },
  {
   "attachments": {},
   "cell_type": "markdown",
   "metadata": {},
   "source": [
    "+ デフォルトのキャッシュ順序は挿入順.\n",
    "+ `iterkeys`を用いることで, キャッシュ順序をソートできる\n",
    "+ ソート順序はDB(SQLite)に準じる"
   ]
  },
  {
   "cell_type": "code",
   "execution_count": 69,
   "metadata": {},
   "outputs": [],
   "source": [
    "for key in 'cab':\n",
    "    cache[key] = None"
   ]
  },
  {
   "cell_type": "code",
   "execution_count": 70,
   "metadata": {},
   "outputs": [
    {
     "data": {
      "text/plain": [
       "['c', 'a', 'b']"
      ]
     },
     "execution_count": 70,
     "metadata": {},
     "output_type": "execute_result"
    }
   ],
   "source": [
    "list(cache)"
   ]
  },
  {
   "cell_type": "code",
   "execution_count": 71,
   "metadata": {},
   "outputs": [
    {
     "data": {
      "text/plain": [
       "['a', 'b', 'c']"
      ]
     },
     "execution_count": 71,
     "metadata": {},
     "output_type": "execute_result"
    }
   ],
   "source": [
    "list(cache.iterkeys())"
   ]
  },
  {
   "attachments": {},
   "cell_type": "markdown",
   "metadata": {},
   "source": [
    "`peekitem()`関数で挿入順序で最初と最後に効率よくアクセスできる"
   ]
  },
  {
   "cell_type": "code",
   "execution_count": 72,
   "metadata": {},
   "outputs": [
    {
     "data": {
      "text/plain": [
       "('b', None)"
      ]
     },
     "execution_count": 72,
     "metadata": {},
     "output_type": "execute_result"
    }
   ],
   "source": [
    "cache.peekitem()"
   ]
  },
  {
   "cell_type": "code",
   "execution_count": 73,
   "metadata": {},
   "outputs": [
    {
     "data": {
      "text/plain": [
       "('c', None)"
      ]
     },
     "execution_count": 73,
     "metadata": {},
     "output_type": "execute_result"
    }
   ],
   "source": [
    "cache.peekitem(last=False)"
   ]
  },
  {
   "attachments": {},
   "cell_type": "markdown",
   "metadata": {},
   "source": [
    "+ キュー型のデータ構造キャッシュの順序ソートに`push()`,`pull()`,`peek()`を利用できる\n",
    "+ 上記, 3つの関数は, 自動的にキャッシュ範囲にキーを割り当てる"
   ]
  },
  {
   "cell_type": "code",
   "execution_count": 74,
   "metadata": {},
   "outputs": [
    {
     "name": "stdout",
     "output_type": "stream",
     "text": [
      "500000000000000\n"
     ]
    }
   ],
   "source": [
    "key = cache.push('first')\n",
    "print(key)"
   ]
  },
  {
   "cell_type": "code",
   "execution_count": 75,
   "metadata": {},
   "outputs": [
    {
     "data": {
      "text/plain": [
       "'first'"
      ]
     },
     "execution_count": 75,
     "metadata": {},
     "output_type": "execute_result"
    }
   ],
   "source": [
    "cache[key]"
   ]
  },
  {
   "cell_type": "code",
   "execution_count": 76,
   "metadata": {},
   "outputs": [
    {
     "data": {
      "text/plain": [
       "'zeroth'"
      ]
     },
     "execution_count": 76,
     "metadata": {},
     "output_type": "execute_result"
    }
   ],
   "source": [
    "_ = cache.push('second') # エンキュー side='back'\n",
    "_ = cache.push('zeroth', side='front') # キューの先頭に挿入\n",
    "_, value = cache.peek()\n",
    "value"
   ]
  },
  {
   "cell_type": "code",
   "execution_count": 77,
   "metadata": {},
   "outputs": [
    {
     "name": "stdout",
     "output_type": "stream",
     "text": [
      "499999999999999\n",
      "zeroth\n"
     ]
    }
   ],
   "source": [
    "key, value = cache.pull() # デキュー\n",
    "print(key)\n",
    "print(value)"
   ]
  },
  {
   "attachments": {},
   "cell_type": "markdown",
   "metadata": {},
   "source": [
    "+ prefixパラメータを使用して, 一つのキャッシュ内に複数のキュー型データ構造を保持できる\n",
    "+ prefixが`None`のとき, 整数keyが使用される.\n",
    "+ prefixに対してstringを`prefix-integer`フォーマットで使用した場合, 500 trillionまでOK"
   ]
  },
  {
   "attachments": {},
   "cell_type": "markdown",
   "metadata": {},
   "source": [
    "`volume()`関数は, ディスクにあるキャッシュのトータル予測バイト数を出力する"
   ]
  },
  {
   "cell_type": "code",
   "execution_count": 78,
   "metadata": {},
   "outputs": [
    {
     "data": {
      "text/plain": [
       "True"
      ]
     },
     "execution_count": 78,
     "metadata": {},
     "output_type": "execute_result"
    }
   ],
   "source": [
    "cache.volume() < int(1e5)"
   ]
  },
  {
   "attachments": {},
   "cell_type": "markdown",
   "metadata": {},
   "source": [
    "+ `stats()`関数は, キャシュヒット率を返す\n",
    "+ 統計量の計算はデフォルトでFalse"
   ]
  },
  {
   "cell_type": "code",
   "execution_count": 79,
   "metadata": {},
   "outputs": [
    {
     "data": {
      "text/plain": [
       "(0, 0)"
      ]
     },
     "execution_count": 79,
     "metadata": {},
     "output_type": "execute_result"
    }
   ],
   "source": [
    "cache.stats(enable=True) # 計測開始"
   ]
  },
  {
   "cell_type": "code",
   "execution_count": 80,
   "metadata": {},
   "outputs": [],
   "source": [
    "for num in range(100):\n",
    "    _ = cache.set(num, num)"
   ]
  },
  {
   "cell_type": "code",
   "execution_count": 81,
   "metadata": {},
   "outputs": [],
   "source": [
    "for num in range(150):\n",
    "    _ = cache.get(num)"
   ]
  },
  {
   "cell_type": "code",
   "execution_count": 82,
   "metadata": {},
   "outputs": [
    {
     "data": {
      "text/plain": [
       "(100, 50)"
      ]
     },
     "execution_count": 82,
     "metadata": {},
     "output_type": "execute_result"
    }
   ],
   "source": [
    "hits, misses = cache.stats(enable=False, reset=True) # 計測終了\n",
    "(hits, misses)"
   ]
  },
  {
   "attachments": {},
   "cell_type": "markdown",
   "metadata": {},
   "source": [
    "+ `check()`関数は, キャッシュの一貫性を保つ.\n",
    "+ 一貫性が崩れた状態のキャッシュを立て直すのも`check()`関数が行う"
   ]
  },
  {
   "cell_type": "code",
   "execution_count": 83,
   "metadata": {},
   "outputs": [],
   "source": [
    "warnings = cache.check()"
   ]
  },
  {
   "cell_type": "code",
   "execution_count": 84,
   "metadata": {},
   "outputs": [
    {
     "data": {
      "text/plain": [
       "[<warnings.WarningMessage at 0x28bdff8c400>]"
      ]
     },
     "execution_count": 84,
     "metadata": {},
     "output_type": "execute_result"
    }
   ],
   "source": [
    "warnings"
   ]
  },
  {
   "attachments": {},
   "cell_type": "markdown",
   "metadata": {},
   "source": [
    "キャッシュの基礎となるディレクトリ(key-value)は自動で削除されない. 必ず手動で削除する"
   ]
  },
  {
   "cell_type": "code",
   "execution_count": 85,
   "metadata": {},
   "outputs": [
    {
     "name": "stdout",
     "output_type": "stream",
     "text": [
      "F:/DiskCacheTest/Cache\n",
      "F:/DiskCacheTest/TagIndexCache\n"
     ]
    }
   ],
   "source": [
    "cache.close()\n",
    "cache_with_tag_index.close()\n",
    "import shutil\n",
    "try:\n",
    "    print(cache.directory)\n",
    "    print(cache_with_tag_index.directory)\n",
    "    shutil.rmtree(cache.directory)\n",
    "    shutil.rmtree(cache_with_tag_index.directory)\n",
    "except OSError:\n",
    "    pass"
   ]
  },
  {
   "attachments": {},
   "cell_type": "markdown",
   "metadata": {},
   "source": [
    "## FanoutCache\n",
    "+ データベースを共有するレイヤー(データベースを水平分割する)を自動的に作成する\n",
    "+ write処理はblocking, read処理はnon-blocking\n",
    "+ `shards`パラメータ 分割数 (default=8). write操作の(他のwrite操作に対する)blockingによるoverheadを減らすための策\n",
    "+ `timeout`パラメータ データベースのトランザクションタイムアウト時間 (トランザクションはwrite処理で発生)\n",
    "+ timeout時間`(default=0.010)`10msを超過した場合, `diskcache.Timeout`エラーが内部で発行される \n",
    "+ Cacheにも同様のtimeoutパラメータが存在する. Cacheで`diskcache.Timeout`が発行される -> pythonの例外が投げられる\n",
    "+ 一方, FanoutCacheは`diskcache.Timeout`例外を内部で貯める&無視する(`set()`と`delete()`は暗黙的に失敗する)\n",
    "+ `size_limit`パラメータ`(default=1GB)`は, キャッシュのトータルサイズを決める. 各shardごとの最大キャッシュサイズは`size_limit/shards`になる\n",
    "+ `size_limit/shards`より大きなキャッシュアイテムは一時的に間引き?(分割)される"
   ]
  },
  {
   "cell_type": "code",
   "execution_count": 86,
   "metadata": {},
   "outputs": [],
   "source": [
    "# fancache.close()"
   ]
  },
  {
   "cell_type": "code",
   "execution_count": 87,
   "metadata": {},
   "outputs": [],
   "source": [
    "from diskcache import FanoutCache\n",
    "cachedir3 = 'F:/DiskCacheTest/FanoutCache'\n",
    "fancache = FanoutCache(directory=cachedir3, shards=4, timeout=1)"
   ]
  },
  {
   "attachments": {},
   "cell_type": "markdown",
   "metadata": {},
   "source": [
    "+ `memoizing`デコレータを追加できる. 関数オブジェクト・引数・戻り値をディスクキャッシュできる\n",
    "+ `functools.lru_cache`&`Cache.set()`と似たような挙動をする(lru_cacheはインメモリ)"
   ]
  },
  {
   "cell_type": "code",
   "execution_count": 101,
   "metadata": {},
   "outputs": [],
   "source": [
    "# memoizing callable\n",
    "@fancache.memoize(typed=True, expire=1, tag='fib')\n",
    "def fibonacci_memoizing(number):\n",
    "    if number == 0:\n",
    "        return 0\n",
    "    elif number == 1:\n",
    "        return 1\n",
    "    else:\n",
    "        return fibonacci_memoizing(number - 1) + fibonacci_memoizing(number - 2)"
   ]
  },
  {
   "cell_type": "code",
   "execution_count": 91,
   "metadata": {},
   "outputs": [],
   "source": [
    "# non-memoizing callable\n",
    "def fibonacci(number):\n",
    "    if number == 0:\n",
    "        return 0\n",
    "    elif number == 1:\n",
    "        return 1\n",
    "    else:\n",
    "        return fibonacci(number - 1) + fibonacci(number - 2)"
   ]
  },
  {
   "attachments": {},
   "cell_type": "markdown",
   "metadata": {},
   "source": [
    "non-memoizing fibonacci"
   ]
  },
  {
   "cell_type": "code",
   "execution_count": 93,
   "metadata": {},
   "outputs": [
    {
     "name": "stdout",
     "output_type": "stream",
     "text": [
      "88\n",
      "elapsed_time 110.3 [ms]\n"
     ]
    }
   ],
   "source": [
    "import time\n",
    "tp_start = time.perf_counter_ns()\n",
    "\n",
    "# non-memoizing\n",
    "print(sum(fibonacci(value) for value in range(10)))\n",
    "\n",
    "tp_end = time.perf_counter_ns()\n",
    "\n",
    "duration = (tp_end - tp_start) / 1000.0\n",
    "print(\"elapsed_time {} [ms]\".format(duration))"
   ]
  },
  {
   "attachments": {},
   "cell_type": "markdown",
   "metadata": {},
   "source": [
    "memoizing fibonacchi"
   ]
  },
  {
   "cell_type": "code",
   "execution_count": 121,
   "metadata": {},
   "outputs": [
    {
     "name": "stdout",
     "output_type": "stream",
     "text": [
      "88\n",
      "elapsed_time 18755.8 [ms]\n",
      "131072\n",
      "[('__main__.fibonacci_memoizing', 0, None, <class 'int'>), ('__main__.fibonacci_memoizing', 4, None, <class 'int'>), ('__main__.fibonacci_memoizing', 8, None, <class 'int'>), ('__main__.fibonacci_memoizing', 1, None, <class 'int'>), ('__main__.fibonacci_memoizing', 5, None, <class 'int'>), ('__main__.fibonacci_memoizing', 9, None, <class 'int'>), ('__main__.fibonacci_memoizing', 2, None, <class 'int'>), ('__main__.fibonacci_memoizing', 6, None, <class 'int'>), ('__main__.fibonacci_memoizing', 3, None, <class 'int'>), ('__main__.fibonacci_memoizing', 7, None, <class 'int'>)]\n",
      "[]\n",
      "131072\n"
     ]
    }
   ],
   "source": [
    "import time\n",
    "tp_start = time.perf_counter_ns()\n",
    "\n",
    "print(sum(fibonacci_memoizing(value) for value in range(10))) # 10\n",
    "\n",
    "tp_end = time.perf_counter_ns()\n",
    "\n",
    "duration = (tp_end - tp_start) / 1000.0\n",
    "print(\"elapsed_time {} [ms]\".format(duration))\n",
    "\n",
    "print(fancache.volume())\n",
    "print(list(fancache))\n",
    "fancache.evict('fib') # tag='fib'のkey-valueをすべて消す\n",
    "print(list(fancache))\n",
    "print(fancache.volume())\n"
   ]
  },
  {
   "cell_type": "code",
   "execution_count": 107,
   "metadata": {},
   "outputs": [
    {
     "name": "stdout",
     "output_type": "stream",
     "text": [
      "573147844013817084100\n",
      "elapsed_time 36698.3 [ms]\n"
     ]
    }
   ],
   "source": [
    "tp_start = time.perf_counter_ns()\n",
    "\n",
    "print(sum(fibonacci_memoizing(value) for value in range(100))) # 100\n",
    "\n",
    "tp_end = time.perf_counter_ns()\n",
    "\n",
    "duration = (tp_end - tp_start) / 1000.0\n",
    "print(\"elapsed_time {} [ms]\".format(duration))"
   ]
  },
  {
   "cell_type": "code",
   "execution_count": 108,
   "metadata": {},
   "outputs": [
    {
     "name": "stdout",
     "output_type": "stream",
     "text": [
      "[('__main__.fibonacci_memoizing', 0, None, <class 'int'>), ('__main__.fibonacci_memoizing', 4, None, <class 'int'>), ('__main__.fibonacci_memoizing', 8, None, <class 'int'>), ('__main__.fibonacci_memoizing', 12, None, <class 'int'>), ('__main__.fibonacci_memoizing', 16, None, <class 'int'>), ('__main__.fibonacci_memoizing', 20, None, <class 'int'>), ('__main__.fibonacci_memoizing', 24, None, <class 'int'>), ('__main__.fibonacci_memoizing', 28, None, <class 'int'>), ('__main__.fibonacci_memoizing', 32, None, <class 'int'>), ('__main__.fibonacci_memoizing', 36, None, <class 'int'>), ('__main__.fibonacci_memoizing', 40, None, <class 'int'>), ('__main__.fibonacci_memoizing', 44, None, <class 'int'>), ('__main__.fibonacci_memoizing', 48, None, <class 'int'>), ('__main__.fibonacci_memoizing', 52, None, <class 'int'>), ('__main__.fibonacci_memoizing', 56, None, <class 'int'>), ('__main__.fibonacci_memoizing', 60, None, <class 'int'>), ('__main__.fibonacci_memoizing', 64, None, <class 'int'>), ('__main__.fibonacci_memoizing', 68, None, <class 'int'>), ('__main__.fibonacci_memoizing', 72, None, <class 'int'>), ('__main__.fibonacci_memoizing', 76, None, <class 'int'>), ('__main__.fibonacci_memoizing', 80, None, <class 'int'>), ('__main__.fibonacci_memoizing', 84, None, <class 'int'>), ('__main__.fibonacci_memoizing', 88, None, <class 'int'>), ('__main__.fibonacci_memoizing', 92, None, <class 'int'>), ('__main__.fibonacci_memoizing', 96, None, <class 'int'>), ('__main__.fibonacci_memoizing', 1, None, <class 'int'>), ('__main__.fibonacci_memoizing', 5, None, <class 'int'>), ('__main__.fibonacci_memoizing', 9, None, <class 'int'>), ('__main__.fibonacci_memoizing', 13, None, <class 'int'>), ('__main__.fibonacci_memoizing', 17, None, <class 'int'>), ('__main__.fibonacci_memoizing', 21, None, <class 'int'>), ('__main__.fibonacci_memoizing', 25, None, <class 'int'>), ('__main__.fibonacci_memoizing', 29, None, <class 'int'>), ('__main__.fibonacci_memoizing', 33, None, <class 'int'>), ('__main__.fibonacci_memoizing', 37, None, <class 'int'>), ('__main__.fibonacci_memoizing', 41, None, <class 'int'>), ('__main__.fibonacci_memoizing', 45, None, <class 'int'>), ('__main__.fibonacci_memoizing', 49, None, <class 'int'>), ('__main__.fibonacci_memoizing', 53, None, <class 'int'>), ('__main__.fibonacci_memoizing', 57, None, <class 'int'>), ('__main__.fibonacci_memoizing', 61, None, <class 'int'>), ('__main__.fibonacci_memoizing', 65, None, <class 'int'>), ('__main__.fibonacci_memoizing', 69, None, <class 'int'>), ('__main__.fibonacci_memoizing', 73, None, <class 'int'>), ('__main__.fibonacci_memoizing', 77, None, <class 'int'>), ('__main__.fibonacci_memoizing', 81, None, <class 'int'>), ('__main__.fibonacci_memoizing', 85, None, <class 'int'>), ('__main__.fibonacci_memoizing', 89, None, <class 'int'>), ('__main__.fibonacci_memoizing', 93, None, <class 'int'>), ('__main__.fibonacci_memoizing', 97, None, <class 'int'>), ('__main__.fibonacci_memoizing', 2, None, <class 'int'>), ('__main__.fibonacci_memoizing', 6, None, <class 'int'>), ('__main__.fibonacci_memoizing', 10, None, <class 'int'>), ('__main__.fibonacci_memoizing', 14, None, <class 'int'>), ('__main__.fibonacci_memoizing', 18, None, <class 'int'>), ('__main__.fibonacci_memoizing', 22, None, <class 'int'>), ('__main__.fibonacci_memoizing', 26, None, <class 'int'>), ('__main__.fibonacci_memoizing', 30, None, <class 'int'>), ('__main__.fibonacci_memoizing', 34, None, <class 'int'>), ('__main__.fibonacci_memoizing', 38, None, <class 'int'>), ('__main__.fibonacci_memoizing', 42, None, <class 'int'>), ('__main__.fibonacci_memoizing', 46, None, <class 'int'>), ('__main__.fibonacci_memoizing', 50, None, <class 'int'>), ('__main__.fibonacci_memoizing', 54, None, <class 'int'>), ('__main__.fibonacci_memoizing', 58, None, <class 'int'>), ('__main__.fibonacci_memoizing', 62, None, <class 'int'>), ('__main__.fibonacci_memoizing', 66, None, <class 'int'>), ('__main__.fibonacci_memoizing', 70, None, <class 'int'>), ('__main__.fibonacci_memoizing', 74, None, <class 'int'>), ('__main__.fibonacci_memoizing', 78, None, <class 'int'>), ('__main__.fibonacci_memoizing', 82, None, <class 'int'>), ('__main__.fibonacci_memoizing', 86, None, <class 'int'>), ('__main__.fibonacci_memoizing', 90, None, <class 'int'>), ('__main__.fibonacci_memoizing', 94, None, <class 'int'>), ('__main__.fibonacci_memoizing', 98, None, <class 'int'>), ('__main__.fibonacci_memoizing', 3, None, <class 'int'>), ('__main__.fibonacci_memoizing', 7, None, <class 'int'>), ('__main__.fibonacci_memoizing', 11, None, <class 'int'>), ('__main__.fibonacci_memoizing', 15, None, <class 'int'>), ('__main__.fibonacci_memoizing', 19, None, <class 'int'>), ('__main__.fibonacci_memoizing', 23, None, <class 'int'>), ('__main__.fibonacci_memoizing', 27, None, <class 'int'>), ('__main__.fibonacci_memoizing', 31, None, <class 'int'>), ('__main__.fibonacci_memoizing', 35, None, <class 'int'>), ('__main__.fibonacci_memoizing', 39, None, <class 'int'>), ('__main__.fibonacci_memoizing', 43, None, <class 'int'>), ('__main__.fibonacci_memoizing', 47, None, <class 'int'>), ('__main__.fibonacci_memoizing', 51, None, <class 'int'>), ('__main__.fibonacci_memoizing', 55, None, <class 'int'>), ('__main__.fibonacci_memoizing', 59, None, <class 'int'>), ('__main__.fibonacci_memoizing', 63, None, <class 'int'>), ('__main__.fibonacci_memoizing', 67, None, <class 'int'>), ('__main__.fibonacci_memoizing', 71, None, <class 'int'>), ('__main__.fibonacci_memoizing', 75, None, <class 'int'>), ('__main__.fibonacci_memoizing', 79, None, <class 'int'>), ('__main__.fibonacci_memoizing', 83, None, <class 'int'>), ('__main__.fibonacci_memoizing', 87, None, <class 'int'>), ('__main__.fibonacci_memoizing', 91, None, <class 'int'>), ('__main__.fibonacci_memoizing', 95, None, <class 'int'>), ('__main__.fibonacci_memoizing', 99, None, <class 'int'>)]\n",
      "131072\n",
      "100\n",
      "131072\n"
     ]
    }
   ],
   "source": [
    "print(list(fancache))\n",
    "print(fancache.volume())\n",
    "print(fancache.clear())\n",
    "print(fancache.volume())\n"
   ]
  },
  {
   "cell_type": "code",
   "execution_count": 109,
   "metadata": {},
   "outputs": [
    {
     "name": "stdout",
     "output_type": "stream",
     "text": [
      "131072\n",
      "[]\n"
     ]
    }
   ],
   "source": [
    "print(fancache.volume())\n",
    "print(list(fancache))"
   ]
  },
  {
   "cell_type": "code",
   "execution_count": 110,
   "metadata": {},
   "outputs": [],
   "source": [
    "fancache.close()"
   ]
  },
  {
   "attachments": {},
   "cell_type": "markdown",
   "metadata": {},
   "source": [
    "## Disk\n",
    "+ キャッシュに保存されたデータのシリアライズとデシリアライズ機能を持つ\n",
    "+ keyとvalueでシリアライズの挙動が異なる\n",
    "+ keyは常にキャッシュのメタデータベースに保存される\n",
    "+ デフォルトのメタデータベースの型: intergers, floats, string, bytes. その他の型はPickleプロトコルを使用してbytesデータに変換されてメタデータベースに保存される\n",
    "+ valueは時々ファイルに分割して保存される\n",
    "+ シリアライズをカスタマイズするには, Diskクラスのサブクラスを作成する(キャッシュの初期化時に使用される)\n",
    "+ キャッシュにアクセスするすべてのクライアントは, 同じシリアライズ=DiskクラスorDiskクラスのサブクラスを使用すること\n",
    "+ シリアライズのデフォルト実装はPythonの`Pickle`を使用している"
   ]
  },
  {
   "attachments": {},
   "cell_type": "markdown",
   "metadata": {},
   "source": [
    "Python と同様に、1 や 1.0 などの整数と浮動小数点はキーとして同等に比較されることに注意してください。"
   ]
  },
  {
   "attachments": {},
   "cell_type": "markdown",
   "metadata": {},
   "source": [
    "#### Jsonファイルを圧縮ディスクキャッシュするJSONDiskサブクラス"
   ]
  },
  {
   "cell_type": "code",
   "execution_count": 117,
   "metadata": {},
   "outputs": [],
   "source": [
    "from diskcache import Disk\n",
    "\n",
    "import json\n",
    "import zlib\n",
    "\n",
    "class JSONDisk(Disk):\n",
    "\n",
    "    def __init__(self, directory, compress_level=1, **kwargs):\n",
    "        super().__init__(directory, **kwargs)\n",
    "        self.compless_level = compress_level\n",
    "\n",
    "    # override\n",
    "    def put(self, key):\n",
    "        json_bytes = json.dumps(key).encode('utf-8')\n",
    "        data = zlib.compress(json_bytes, self.compless_level)\n",
    "        return super().put(data)\n",
    "    \n",
    "    # override\n",
    "    def get(self, key, raw):\n",
    "        data = super().get(key, raw)\n",
    "        return json.loads(zlib.decompress(data).decode('utf-8'))\n",
    "    \n",
    "    # override\n",
    "    def store(self, value, read, key=None):\n",
    "        if not read:\n",
    "            json_bytes = json.dumps(value).encode('utf-8')\n",
    "            value = zlib.compress(json_bytes, self.compless_level)\n",
    "        return super().store(value, read, key=key)\n",
    "    \n",
    "    # override\n",
    "    def fetch(self, mode, filename, value, read):\n",
    "        data = super().fetch(mode, filename, value, read)\n",
    "        if not read:\n",
    "            data = json.loads(zlib.decompress(data).decode('utf-8'))\n",
    "        return data\n",
    "    \n",
    "    \n",
    "        "
   ]
  },
  {
   "cell_type": "code",
   "execution_count": 118,
   "metadata": {},
   "outputs": [],
   "source": [
    "cachedir4 = \"F:/DiskCacheTest/JsonDiskCache\"\n",
    "with Cache(directory=cachedir4, disk=JSONDisk, disk_compress_level=6) as jsoncache:\n",
    "    pass"
   ]
  },
  {
   "attachments": {},
   "cell_type": "markdown",
   "metadata": {},
   "source": [
    "### GZipを使ったファイルを圧縮ディクスキャッシュするGZipDiskサブクラス"
   ]
  },
  {
   "cell_type": "code",
   "execution_count": 119,
   "metadata": {},
   "outputs": [],
   "source": [
    "# gzip\n",
    "import gzip\n",
    "\n",
    "# diskcache\n",
    "from diskcache import FanoutCache, Disk\n",
    "from diskcache.core import MODE_BINARY\n",
    "\n",
    "# cassandra\n",
    "from cassandra.cqltypes import BytesType\n",
    "\n",
    "# io\n",
    "from io import BytesIO\n",
    "\n",
    "class GzipDisk(Disk):\n",
    "\n",
    "    def __init__(self, compress_level=1, **kwargs):\n",
    "        super().__init__(kwargs)\n",
    "        self.compress_level = compress_level\n",
    "        self.chunk_size = 2**30\n",
    "\n",
    "    # override\n",
    "    def store(self, value, read, key=None):\n",
    "\n",
    "        if type(value) is BytesType:\n",
    "            if read:\n",
    "                value = value.read()\n",
    "                read = False\n",
    "                \n",
    "            str_io = BytesIO() # stream io\n",
    "            gz_file = gzip.GzipFile(mode='wb', \n",
    "                                    compresslevel=self.compress_level, \n",
    "                                    fileobj=str_io)\n",
    "            \n",
    "            \n",
    "            for offset in range(0, len(value), self.chunk_size):\n",
    "                gz_file.write(value[offset:offset+self.chunk_size])\n",
    "            gz_file.close()\n",
    "\n",
    "            value = str_io.getvalue()\n",
    "\n",
    "        return super().store(value, read)\n",
    "\n",
    "    # override\n",
    "    def fetch(self, mode, filename, value, read):\n",
    "        value = super().fetch(mode, filename, value, read)\n",
    "\n",
    "        if mode == MODE_BINARY:\n",
    "            str_io = BytesIO(value) # stream io\n",
    "            gz_file = gzip.GzipFile(mode='rb', fileobj=str_io)\n",
    "            read_csio = BytesIO()\n",
    "\n",
    "            while True:\n",
    "                uncompressed_data = gz_file.read(self.chunk_size)\n",
    "                if uncompressed_data:\n",
    "                    read_csio.write(uncompressed_data)\n",
    "                else:\n",
    "                    break\n",
    "\n",
    "            value = read_csio.getvalue()\n",
    "\n",
    "        return value\n"
   ]
  },
  {
   "cell_type": "code",
   "execution_count": 132,
   "metadata": {},
   "outputs": [],
   "source": [
    "def get_cache(cachedir : str, version : str, scope : str):\n",
    "    caching_path = cachedir + f\"/data-{version}/\" + scope\n",
    "    return FanoutCache(\n",
    "        directory=caching_path,\n",
    "        disk=GzipDisk,\n",
    "        shards=64, # 64 db partition\n",
    "        timeout=1, # 1sec\n",
    "        size_limit=3e11, # max total db size\n",
    "    )"
   ]
  },
  {
   "cell_type": "code",
   "execution_count": 133,
   "metadata": {},
   "outputs": [],
   "source": [
    "gzip_cachedir = \"F:/DiskCacheTest/GZipDiskCache\"\n",
    "version = \"unversioned\"\n",
    "scope = \"test\"\n",
    "gzip_cache = get_cache(gzip_cachedir, version, scope) # 後で必ずclose()すること!"
   ]
  },
  {
   "attachments": {},
   "cell_type": "markdown",
   "metadata": {},
   "source": [
    "callableオブジェクトをdbに登録する(memoizing)"
   ]
  },
  {
   "cell_type": "code",
   "execution_count": 134,
   "metadata": {},
   "outputs": [],
   "source": [
    "# memoizing callable\n",
    "@gzip_cache.memoize(typed=True, expire=1, tag='fib')\n",
    "def fibonacci_gzip_cache(number):\n",
    "    if number == 0:\n",
    "        return 0\n",
    "    elif number == 1:\n",
    "        return 1\n",
    "    else:\n",
    "        return fibonacci_gzip_cache(number - 1) + fibonacci_gzip_cache(number - 2)"
   ]
  },
  {
   "cell_type": "code",
   "execution_count": 135,
   "metadata": {},
   "outputs": [
    {
     "name": "stdout",
     "output_type": "stream",
     "text": [
      "70330367711422815821835254877183549770181269836358732742604905087154537118196933579742249494562611733487750449241765991088186363265450223647106012053374121273867339111198139373125598767690091902245245323403500\n",
      "elapsed_time 507885.9 [ms]\n"
     ]
    }
   ],
   "source": [
    "tp_start = time.perf_counter_ns()\n",
    "\n",
    "print(sum(fibonacci_gzip_cache(value) for value in range(1000))) # 1000\n",
    "\n",
    "tp_end = time.perf_counter_ns()\n",
    "\n",
    "duration = (tp_end - tp_start) / 1000.0\n",
    "print(\"elapsed_time {} [ms]\".format(duration))"
   ]
  },
  {
   "cell_type": "code",
   "execution_count": 136,
   "metadata": {},
   "outputs": [],
   "source": [
    "gzip_cache.close()"
   ]
  }
 ],
 "metadata": {
  "kernelspec": {
   "display_name": "Py39WorkingEnv",
   "language": "python",
   "name": "python3"
  },
  "language_info": {
   "codemirror_mode": {
    "name": "ipython",
    "version": 3
   },
   "file_extension": ".py",
   "mimetype": "text/x-python",
   "name": "python",
   "nbconvert_exporter": "python",
   "pygments_lexer": "ipython3",
   "version": "3.9.16"
  },
  "orig_nbformat": 4
 },
 "nbformat": 4,
 "nbformat_minor": 2
}
